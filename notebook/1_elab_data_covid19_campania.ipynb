{
 "cells": [
  {
   "cell_type": "code",
   "execution_count": 1,
   "metadata": {},
   "outputs": [],
   "source": [
    "# Nome del file CSV da analizzare\n",
    "FILE_CSV = 'CovidDettaglio_18Ott.csv'"
   ]
  },
  {
   "cell_type": "code",
   "execution_count": 2,
   "metadata": {},
   "outputs": [],
   "source": [
    "# import libreria\n",
    "import pandas as pd\n",
    "\n",
    "# lettura dati da csv\n",
    "dati = pd.read_csv(FILE_CSV, sep=';')"
   ]
  },
  {
   "cell_type": "code",
   "execution_count": 21,
   "metadata": {},
   "outputs": [],
   "source": [
    "# selezione dati significativi\n",
    "dati_selezionati = dati.loc[:, ['Data aggiornamento', 'Totale positivi','Totale ospedalizzati', 'Terapia Intensiva', 'Isolamento domiciliare', 'Nuovi positivi', 'Deceduti', 'Dimessi guariti','Tamponi','Totale casi']]"
   ]
  },
  {
   "cell_type": "code",
   "execution_count": 22,
   "metadata": {},
   "outputs": [],
   "source": [
    "# ELABORAZIONE CAMPI CALCOLATI\n",
    "\n",
    "# Calcolo tamponi giornalieri\n",
    "dati_selezionati['Tamponi giornalieri'] =  round(dati['Tamponi'] - dati['Tamponi'].shift())\n",
    "\n",
    "# Calcolo differenza ospedalizzati\n",
    "dati_selezionati['Differenza ospedalizzati'] = round(dati['Totale ospedalizzati'] - dati['Totale ospedalizzati'].shift())\n",
    "\n",
    "# Calcolo differenza terapia intensive\n",
    "dati_selezionati['Differenza terapia intensiva'] = round(dati['Terapia Intensiva'] - dati['Terapia Intensiva'].shift())\n",
    "\n",
    "# Calcolo differenza deceduti\n",
    "dati_selezionati['Differenza deceduti'] = round(dati['Deceduti'] - dati['Deceduti'].shift())\n",
    "\n",
    "# Calcolo differenza guariti \n",
    "dati_selezionati['Differenza guariti'] = round(dati['Dimessi guariti'] - dati['Dimessi guariti'].shift())\n",
    "\n",
    "# Calcolo rapporto % positivi/tamponi\n",
    "dati_selezionati['% Positivi/Tamponi'] = round(dati['Nuovi positivi'] /  dati_selezionati['Tamponi giornalieri'] * 100,1)\n",
    "\n",
    "# Calcolo % Variazione positivi giornaliera\n",
    "dati_selezionati['% Variazione positivi giornaliera'] = round( ((dati_selezionati['Nuovi positivi'] - dati_selezionati['Nuovi positivi'].shift())/dati_selezionati['Nuovi positivi'].shift()) * 100,1)\n",
    "\n",
    "# Calcolo % Variazione ospedalizzati giornaliera\n",
    "dati_selezionati['% Variazione ospedalizzati giornaliera'] = round( ((dati_selezionati['Differenza ospedalizzati'] - dati_selezionati['Differenza ospedalizzati'].shift())/dati_selezionati['Differenza ospedalizzati'].shift()) * 100,1)\n",
    "\n",
    "# Calcolo % Variazione terapie intensive giornaliera\n",
    "dati_selezionati['% Variazione terapia intensiva giornaliera'] = round( ((dati_selezionati['Differenza terapia intensiva'] - dati_selezionati['Differenza terapia intensiva'].shift())/dati_selezionati['Differenza terapia intensiva'].shift()) * 100,1)\n",
    "\n",
    "# Calcolo % Variazione tamponi giornalieri giornaliera\n",
    "dati_selezionati['% Variazione tamponi giornaliera'] = round( ((dati_selezionati['Tamponi giornalieri'] - dati_selezionati['Tamponi giornalieri'].shift())/dati_selezionati['Tamponi giornalieri'].shift()) * 100,1)\n",
    "\n",
    "\n",
    "# Calcolo % Variazione positivi sul totale\n",
    "dati_selezionati['% Variazione positivi sul totale'] = round( ((dati_selezionati['Totale positivi'] - dati_selezionati['Totale positivi'].shift())/dati_selezionati['Totale positivi'].shift()) * 100,1)\n",
    "\n",
    "# Calcolo % Variazione ospedalizzati sul totale \n",
    "dati_selezionati['% Variazione ospedalizzati sul totale'] = round( ((dati_selezionati['Totale ospedalizzati'] - dati_selezionati['Totale ospedalizzati'].shift())/dati_selezionati['Totale ospedalizzati'].shift()) * 100,1)\n",
    "\n",
    "# Calcolo % Variazione terapie intensive sul totale\n",
    "dati_selezionati['% Variazione terapia intensiva sul totale'] = round( ((dati_selezionati['Terapia Intensiva'] - dati_selezionati['Terapia Intensiva'].shift())/dati_selezionati['Terapia Intensiva'].shift()) * 100,1)\n",
    "\n",
    "# % Mortalita\n",
    "dati_selezionati['% Mortalita'] = round(dati['Deceduti'] /  dati_selezionati['Totale casi'] * 100,1)"
   ]
  }
 ],
 "metadata": {
  "kernelspec": {
   "display_name": "Python 3",
   "language": "python",
   "name": "python3"
  },
  "language_info": {
   "codemirror_mode": {
    "name": "ipython",
    "version": 3
   },
   "file_extension": ".py",
   "mimetype": "text/x-python",
   "name": "python",
   "nbconvert_exporter": "python",
   "pygments_lexer": "ipython3",
   "version": "3.8.3"
  }
 },
 "nbformat": 4,
 "nbformat_minor": 4
}
