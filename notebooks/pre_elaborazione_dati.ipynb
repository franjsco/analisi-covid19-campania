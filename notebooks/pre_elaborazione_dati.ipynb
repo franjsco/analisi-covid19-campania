{
 "cells": [
  {
   "cell_type": "markdown",
   "metadata": {},
   "source": [
    "## pre_elaborazione_dati.ipynb\n",
    "Notebook tecnico che elabora il DataFrame per successive analisi\n",
    "\n",
    "I dati sono prelevati dal catalogo degli open data della regione Campania.\n",
    "\n",
    "[Link dataset - COVID-19 Monitoraggio situazione: Dati di dettaglio relativi alla Regione Campania](https://dati.regione.campania.it/catalogo/datasetdetail/covid-19-monitoraggio-situazione-dati-di-dettaglio-relativi-alla-regione-campania)"
   ]
  },
  {
   "cell_type": "code",
   "execution_count": 4,
   "metadata": {},
   "outputs": [],
   "source": [
    "# nome del file csv\n",
    "FILE_CSV = 'CovidDettaglio_30Ott.csv'\n",
    "path='../data/' + FILE_CSV"
   ]
  },
  {
   "cell_type": "code",
   "execution_count": 2,
   "metadata": {},
   "outputs": [],
   "source": [
    "# dowload csv automatico\n",
    "# URL\n",
    "#url = 'https://dati.regione.campania.it/catalogo/resources/'\n",
    "\n",
    "# Download file\n",
    "#import urllib.request\n",
    "\n",
    "#urllib.request.urlretrieve(url + FILE_CSV, FILE_CSV)\n",
    "\n"
   ]
  },
  {
   "cell_type": "code",
   "execution_count": 5,
   "metadata": {},
   "outputs": [],
   "source": [
    "# import libreria\n",
    "import pandas as pd\n",
    "\n",
    "# lettura dati da csv\n",
    "dati = pd.read_csv(path, sep=';')"
   ]
  },
  {
   "cell_type": "code",
   "execution_count": 6,
   "metadata": {},
   "outputs": [],
   "source": [
    "# selezione dati significativi\n",
    "dati_selezionati = dati.loc[:, ['Data aggiornamento', 'Totale positivi','Totale ospedalizzati', 'Terapia Intensiva', 'Isolamento domiciliare', 'Nuovi positivi', 'Deceduti', 'Dimessi guariti','Tamponi','Totale casi']]"
   ]
  },
  {
   "cell_type": "code",
   "execution_count": 7,
   "metadata": {},
   "outputs": [],
   "source": [
    "# ELABORAZIONE CAMPI CALCOLATI\n",
    "\n",
    "# Calcolo tamponi giornalieri\n",
    "dati_selezionati['Tamponi giornalieri'] =  round(dati['Tamponi'] - dati['Tamponi'].shift())\n",
    "\n",
    "# Calcolo differenza ospedalizzati\n",
    "dati_selezionati['Differenza ospedalizzati'] = round(dati['Totale ospedalizzati'] - dati['Totale ospedalizzati'].shift())\n",
    "\n",
    "# Calcolo differenza terapia intensive\n",
    "dati_selezionati['Differenza terapia intensiva'] = round(dati['Terapia Intensiva'] - dati['Terapia Intensiva'].shift())\n",
    "\n",
    "# Calcolo differenza deceduti\n",
    "dati_selezionati['Differenza deceduti'] = round(dati['Deceduti'] - dati['Deceduti'].shift())\n",
    "\n",
    "# Calcolo differenza guariti \n",
    "dati_selezionati['Differenza guariti'] = round(dati['Dimessi guariti'] - dati['Dimessi guariti'].shift())\n",
    "\n",
    "# Calcolo rapporto % positivi/tamponi\n",
    "dati_selezionati['% Positivi/Tamponi'] = round(dati['Nuovi positivi'] /  dati_selezionati['Tamponi giornalieri'] * 100,1)\n",
    "\n",
    "# Calcolo % Variazione positivi giornaliera\n",
    "dati_selezionati['% Variazione positivi giornaliera'] = round( ((dati_selezionati['Nuovi positivi'] - dati_selezionati['Nuovi positivi'].shift())/dati_selezionati['Nuovi positivi'].shift()) * 100,1)\n",
    "\n",
    "# Calcolo % Variazione ospedalizzati giornaliera\n",
    "dati_selezionati['% Variazione ospedalizzati giornaliera'] = round( ((dati_selezionati['Differenza ospedalizzati'] - dati_selezionati['Differenza ospedalizzati'].shift())/dati_selezionati['Differenza ospedalizzati'].shift()) * 100,1)\n",
    "\n",
    "# Calcolo % Variazione terapie intensive giornaliera\n",
    "dati_selezionati['% Variazione terapia intensiva giornaliera'] = round( ((dati_selezionati['Differenza terapia intensiva'] - dati_selezionati['Differenza terapia intensiva'].shift())/dati_selezionati['Differenza terapia intensiva'].shift()) * 100,1)\n",
    "\n",
    "# Calcolo % Variazione tamponi giornalieri giornaliera\n",
    "dati_selezionati['% Variazione tamponi giornaliera'] = round( ((dati_selezionati['Tamponi giornalieri'] - dati_selezionati['Tamponi giornalieri'].shift())/dati_selezionati['Tamponi giornalieri'].shift()) * 100,1)\n",
    "\n",
    "\n",
    "# Calcolo % Variazione positivi sul totale\n",
    "dati_selezionati['% Variazione positivi sul totale'] = round( ((dati_selezionati['Totale positivi'] - dati_selezionati['Totale positivi'].shift())/dati_selezionati['Totale positivi'].shift()) * 100,1)\n",
    "\n",
    "# Calcolo % Variazione ospedalizzati sul totale \n",
    "dati_selezionati['% Variazione ospedalizzati sul totale'] = round( ((dati_selezionati['Totale ospedalizzati'] - dati_selezionati['Totale ospedalizzati'].shift())/dati_selezionati['Totale ospedalizzati'].shift()) * 100,1)\n",
    "\n",
    "# Calcolo % Variazione terapie intensive sul totale\n",
    "dati_selezionati['% Variazione terapia intensiva sul totale'] = round( ((dati_selezionati['Terapia Intensiva'] - dati_selezionati['Terapia Intensiva'].shift())/dati_selezionati['Terapia Intensiva'].shift()) * 100,1)\n",
    "\n",
    "# % Letalità\n",
    "dati_selezionati['% Letalità'] = round(dati['Deceduti'] /  dati_selezionati['Totale casi'] * 100,1)"
   ]
  },
  {
   "cell_type": "code",
   "execution_count": null,
   "metadata": {},
   "outputs": [],
   "source": []
  }
 ],
 "metadata": {
  "kernelspec": {
   "display_name": "Python 3",
   "language": "python",
   "name": "python3"
  },
  "language_info": {
   "codemirror_mode": {
    "name": "ipython",
    "version": 3
   },
   "file_extension": ".py",
   "mimetype": "text/x-python",
   "name": "python",
   "nbconvert_exporter": "python",
   "pygments_lexer": "ipython3",
   "version": "3.8.3"
  }
 },
 "nbformat": 4,
 "nbformat_minor": 4
}
