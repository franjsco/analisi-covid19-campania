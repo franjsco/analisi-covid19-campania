{
 "cells": [
  {
   "cell_type": "markdown",
   "metadata": {},
   "source": [
    "# Dashboard\n",
    "\n",
    "---\n",
    "Dashbaord emergenza covid19 in Campania.\n",
    "\n",
    "Dataset:\n",
    "[Link dataset - COVID-19 Monitoraggio situazione: Dati di dettaglio relativi alla Regione Campania](https://dati.regione.campania.it/catalogo/datasetdetail/covid-19-monitoraggio-situazione-dati-di-dettaglio-relativi-alla-regione-campania) \n",
    "\n",
    "\n",
    "**Dati presenti**: \n",
    "- Delta giornaliero\n",
    "- Fotografia attuale\n",
    "- Complessivi\n",
    "\n",
    "---"
   ]
  },
  {
   "cell_type": "code",
   "execution_count": 1,
   "metadata": {},
   "outputs": [],
   "source": [
    "# Caricamento dati da notebook di pre-elaborazione dati\n",
    "%run pre_elaborazione_dati.ipynb\n",
    "analisi_giorno = dati_selezionati.tail(1)"
   ]
  },
  {
   "cell_type": "markdown",
   "metadata": {},
   "source": [
    "## Delta giornaliero\n",
    "\n",
    "---\n",
    "Dati giornalieri con variazioni e differenze\n",
    "\n"
   ]
  },
  {
   "cell_type": "code",
   "execution_count": 2,
   "metadata": {},
   "outputs": [
    {
     "data": {
      "text/html": [
       "<div>\n",
       "<style scoped>\n",
       "    .dataframe tbody tr th:only-of-type {\n",
       "        vertical-align: middle;\n",
       "    }\n",
       "\n",
       "    .dataframe tbody tr th {\n",
       "        vertical-align: top;\n",
       "    }\n",
       "\n",
       "    .dataframe thead th {\n",
       "        text-align: right;\n",
       "    }\n",
       "</style>\n",
       "<table border=\"1\" class=\"dataframe\">\n",
       "  <thead>\n",
       "    <tr style=\"text-align: right;\">\n",
       "      <th></th>\n",
       "      <th>Data aggiornamento</th>\n",
       "      <th>Tamponi giornalieri</th>\n",
       "      <th>Nuovi positivi</th>\n",
       "      <th>% Positivi/Tamponi</th>\n",
       "      <th>Differenza ospedalizzati</th>\n",
       "      <th>Differenza terapia intensiva</th>\n",
       "      <th>Differenza deceduti</th>\n",
       "      <th>Differenza guariti</th>\n",
       "    </tr>\n",
       "  </thead>\n",
       "  <tbody>\n",
       "    <tr>\n",
       "      <th>258</th>\n",
       "      <td>08/11/2020</td>\n",
       "      <td>25806.0</td>\n",
       "      <td>4601</td>\n",
       "      <td>17.8</td>\n",
       "      <td>68.0</td>\n",
       "      <td>7.0</td>\n",
       "      <td>15.0</td>\n",
       "      <td>440.0</td>\n",
       "    </tr>\n",
       "  </tbody>\n",
       "</table>\n",
       "</div>"
      ],
      "text/plain": [
       "    Data aggiornamento  Tamponi giornalieri  Nuovi positivi  \\\n",
       "258         08/11/2020              25806.0            4601   \n",
       "\n",
       "     % Positivi/Tamponi  Differenza ospedalizzati  \\\n",
       "258                17.8                      68.0   \n",
       "\n",
       "     Differenza terapia intensiva  Differenza deceduti  Differenza guariti  \n",
       "258                           7.0                 15.0               440.0  "
      ]
     },
     "execution_count": 2,
     "metadata": {},
     "output_type": "execute_result"
    }
   ],
   "source": [
    "analisi_giorno.loc[:, ['Data aggiornamento','Tamponi giornalieri','Nuovi positivi','% Positivi/Tamponi', 'Differenza ospedalizzati', 'Differenza terapia intensiva' ,'Differenza deceduti', 'Differenza guariti' ]]"
   ]
  },
  {
   "cell_type": "code",
   "execution_count": 3,
   "metadata": {},
   "outputs": [
    {
     "data": {
      "text/html": [
       "<div>\n",
       "<style scoped>\n",
       "    .dataframe tbody tr th:only-of-type {\n",
       "        vertical-align: middle;\n",
       "    }\n",
       "\n",
       "    .dataframe tbody tr th {\n",
       "        vertical-align: top;\n",
       "    }\n",
       "\n",
       "    .dataframe thead th {\n",
       "        text-align: right;\n",
       "    }\n",
       "</style>\n",
       "<table border=\"1\" class=\"dataframe\">\n",
       "  <thead>\n",
       "    <tr style=\"text-align: right;\">\n",
       "      <th></th>\n",
       "      <th>Data aggiornamento</th>\n",
       "      <th>% Variazione tamponi giornaliera</th>\n",
       "      <th>% Variazione positivi giornaliera</th>\n",
       "      <th>% Variazione ospedalizzati giornaliera</th>\n",
       "      <th>% Variazione terapia intensiva giornaliera</th>\n",
       "    </tr>\n",
       "  </thead>\n",
       "  <tbody>\n",
       "    <tr>\n",
       "      <th>258</th>\n",
       "      <td>08/11/2020</td>\n",
       "      <td>13.7</td>\n",
       "      <td>6.8</td>\n",
       "      <td>-12.8</td>\n",
       "      <td>-800.0</td>\n",
       "    </tr>\n",
       "  </tbody>\n",
       "</table>\n",
       "</div>"
      ],
      "text/plain": [
       "    Data aggiornamento  % Variazione tamponi giornaliera  \\\n",
       "258         08/11/2020                              13.7   \n",
       "\n",
       "     % Variazione positivi giornaliera  \\\n",
       "258                                6.8   \n",
       "\n",
       "     % Variazione ospedalizzati giornaliera  \\\n",
       "258                                   -12.8   \n",
       "\n",
       "     % Variazione terapia intensiva giornaliera  \n",
       "258                                      -800.0  "
      ]
     },
     "execution_count": 3,
     "metadata": {},
     "output_type": "execute_result"
    }
   ],
   "source": [
    "analisi_giorno.loc[:, ['Data aggiornamento','% Variazione tamponi giornaliera', '% Variazione positivi giornaliera', '% Variazione ospedalizzati giornaliera', '% Variazione terapia intensiva giornaliera']]"
   ]
  },
  {
   "cell_type": "markdown",
   "metadata": {},
   "source": [
    "## Fotografia attuale\n",
    "\n",
    "---\n",
    "Situazione attuale"
   ]
  },
  {
   "cell_type": "code",
   "execution_count": 4,
   "metadata": {},
   "outputs": [
    {
     "data": {
      "text/html": [
       "<div>\n",
       "<style scoped>\n",
       "    .dataframe tbody tr th:only-of-type {\n",
       "        vertical-align: middle;\n",
       "    }\n",
       "\n",
       "    .dataframe tbody tr th {\n",
       "        vertical-align: top;\n",
       "    }\n",
       "\n",
       "    .dataframe thead th {\n",
       "        text-align: right;\n",
       "    }\n",
       "</style>\n",
       "<table border=\"1\" class=\"dataframe\">\n",
       "  <thead>\n",
       "    <tr style=\"text-align: right;\">\n",
       "      <th></th>\n",
       "      <th>Data aggiornamento</th>\n",
       "      <th>Totale positivi</th>\n",
       "      <th>Totale ospedalizzati</th>\n",
       "      <th>Terapia Intensiva</th>\n",
       "      <th>% Letalità</th>\n",
       "    </tr>\n",
       "  </thead>\n",
       "  <tbody>\n",
       "    <tr>\n",
       "      <th>258</th>\n",
       "      <td>08/11/2020</td>\n",
       "      <td>69652</td>\n",
       "      <td>2003</td>\n",
       "      <td>186</td>\n",
       "      <td>1.0</td>\n",
       "    </tr>\n",
       "  </tbody>\n",
       "</table>\n",
       "</div>"
      ],
      "text/plain": [
       "    Data aggiornamento  Totale positivi  Totale ospedalizzati  \\\n",
       "258         08/11/2020            69652                  2003   \n",
       "\n",
       "     Terapia Intensiva  % Letalità  \n",
       "258                186         1.0  "
      ]
     },
     "execution_count": 4,
     "metadata": {},
     "output_type": "execute_result"
    }
   ],
   "source": [
    "analisi_giorno.loc[:, ['Data aggiornamento','Totale positivi', \"Totale ospedalizzati\", \"Terapia Intensiva\", \"% Letalità\"]]"
   ]
  },
  {
   "cell_type": "code",
   "execution_count": 5,
   "metadata": {},
   "outputs": [
    {
     "data": {
      "text/plain": [
       "<matplotlib.axes._subplots.AxesSubplot at 0x7f4aa9bc54f0>"
      ]
     },
     "execution_count": 5,
     "metadata": {},
     "output_type": "execute_result"
    },
    {
     "data": {
      "image/png": "[encoded data removed]",
      "text/plain": [
       "<Figure size 864x432 with 1 Axes>"
      ]
     },
     "metadata": {
      "needs_background": "light"
     },
     "output_type": "display_data"
    }
   ],
   "source": [
    "analisi_giorno.plot(kind='barh', y=['Totale positivi', \"Totale ospedalizzati\", \"Terapia Intensiva\"], grid=True, title='Stato attuale', figsize=(12,6))"
   ]
  },
  {
   "cell_type": "markdown",
   "metadata": {},
   "source": [
    "## Complessivi\n",
    "\n",
    "---\n",
    "Dati generali"
   ]
  },
  {
   "cell_type": "code",
   "execution_count": 6,
   "metadata": {},
   "outputs": [
    {
     "data": {
      "text/html": [
       "<div>\n",
       "<style scoped>\n",
       "    .dataframe tbody tr th:only-of-type {\n",
       "        vertical-align: middle;\n",
       "    }\n",
       "\n",
       "    .dataframe tbody tr th {\n",
       "        vertical-align: top;\n",
       "    }\n",
       "\n",
       "    .dataframe thead th {\n",
       "        text-align: right;\n",
       "    }\n",
       "</style>\n",
       "<table border=\"1\" class=\"dataframe\">\n",
       "  <thead>\n",
       "    <tr style=\"text-align: right;\">\n",
       "      <th></th>\n",
       "      <th>Data aggiornamento</th>\n",
       "      <th>Totale casi</th>\n",
       "      <th>Deceduti</th>\n",
       "      <th>Dimessi guariti</th>\n",
       "      <th>Tamponi</th>\n",
       "    </tr>\n",
       "  </thead>\n",
       "  <tbody>\n",
       "    <tr>\n",
       "      <th>258</th>\n",
       "      <td>08/11/2020</td>\n",
       "      <td>86919</td>\n",
       "      <td>826</td>\n",
       "      <td>16441</td>\n",
       "      <td>1123703</td>\n",
       "    </tr>\n",
       "  </tbody>\n",
       "</table>\n",
       "</div>"
      ],
      "text/plain": [
       "    Data aggiornamento  Totale casi  Deceduti  Dimessi guariti  Tamponi\n",
       "258         08/11/2020        86919       826            16441  1123703"
      ]
     },
     "execution_count": 6,
     "metadata": {},
     "output_type": "execute_result"
    }
   ],
   "source": [
    "analisi_giorno.loc[:, ['Data aggiornamento','Totale casi', 'Deceduti', 'Dimessi guariti', 'Tamponi' ]]"
   ]
  },
  {
   "cell_type": "code",
   "execution_count": 7,
   "metadata": {},
   "outputs": [
    {
     "data": {
      "text/plain": [
       "<matplotlib.axes._subplots.AxesSubplot at 0x7f4aa8edfbe0>"
      ]
     },
     "execution_count": 7,
     "metadata": {},
     "output_type": "execute_result"
    },
    {
     "data": {
      "image/png": "[encoded data removed]",
      "text/plain": [
       "<Figure size 864x432 with 1 Axes>"
      ]
     },
     "metadata": {
      "needs_background": "light"
     },
     "output_type": "display_data"
    }
   ],
   "source": [
    "analisi_giorno.plot(kind='barh', y=['Totale casi', 'Dimessi guariti',  'Deceduti'], title='Generale', grid=True, figsize=(12,6))"
   ]
  },
  {
   "cell_type": "code",
   "execution_count": null,
   "metadata": {},
   "outputs": [],
   "source": []
  }
 ],
 "metadata": {
  "kernelspec": {
   "display_name": "Python 3",
   "language": "python",
   "name": "python3"
  },
  "language_info": {
   "codemirror_mode": {
    "name": "ipython",
    "version": 3
   },
   "file_extension": ".py",
   "mimetype": "text/x-python",
   "name": "python",
   "nbconvert_exporter": "python",
   "pygments_lexer": "ipython3",
   "version": "3.8.3"
  }
 },
 "nbformat": 4,
 "nbformat_minor": 4
}
