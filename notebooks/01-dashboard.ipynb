{
 "cells": [
  {
   "cell_type": "markdown",
   "metadata": {},
   "source": [
    "# Dashboard\n",
    "\n",
    "---\n",
    "Dashbaord emergenza covid19 in Campania.\n",
    "\n",
    "Dataset:\n",
    "[Link dataset - COVID-19 Monitoraggio situazione: Dati di dettaglio relativi alla Regione Campania](https://dati.regione.campania.it/catalogo/datasetdetail/covid-19-monitoraggio-situazione-dati-di-dettaglio-relativi-alla-regione-campania) \n",
    "\n",
    "\n",
    "**Dati presenti**: \n",
    "- Delta giornaliero\n",
    "- Fotografia attuale\n",
    "- Complessivi\n",
    "\n",
    "---"
   ]
  },
  {
   "cell_type": "code",
   "execution_count": 15,
   "metadata": {},
   "outputs": [],
   "source": [
    "# Caricamento dati da notebook di pre-elaborazione dati\n",
    "%run pre_elaborazione_dati.ipynb\n",
    "analisi_giorno = dati_selezionati.tail(1)"
   ]
  },
  {
   "cell_type": "markdown",
   "metadata": {},
   "source": [
    "## Delta giornaliero\n",
    "\n",
    "---\n",
    "Dati giornalieri con variazioni e differenze\n",
    "\n"
   ]
  },
  {
   "cell_type": "code",
   "execution_count": 16,
   "metadata": {},
   "outputs": [
    {
     "data": {
      "text/html": [
       "<div>\n",
       "<style scoped>\n",
       "    .dataframe tbody tr th:only-of-type {\n",
       "        vertical-align: middle;\n",
       "    }\n",
       "\n",
       "    .dataframe tbody tr th {\n",
       "        vertical-align: top;\n",
       "    }\n",
       "\n",
       "    .dataframe thead th {\n",
       "        text-align: right;\n",
       "    }\n",
       "</style>\n",
       "<table border=\"1\" class=\"dataframe\">\n",
       "  <thead>\n",
       "    <tr style=\"text-align: right;\">\n",
       "      <th></th>\n",
       "      <th>Data aggiornamento</th>\n",
       "      <th>Tamponi giornalieri</th>\n",
       "      <th>Nuovi positivi</th>\n",
       "      <th>% Positivi/Tamponi</th>\n",
       "      <th>Differenza ospedalizzati</th>\n",
       "      <th>Differenza terapia intensiva</th>\n",
       "      <th>Differenza deceduti</th>\n",
       "      <th>Differenza guariti</th>\n",
       "    </tr>\n",
       "  </thead>\n",
       "  <tbody>\n",
       "    <tr>\n",
       "      <th>243</th>\n",
       "      <td>24/10/2020</td>\n",
       "      <td>12530.0</td>\n",
       "      <td>1718</td>\n",
       "      <td>13.7</td>\n",
       "      <td>38.0</td>\n",
       "      <td>10.0</td>\n",
       "      <td>8.0</td>\n",
       "      <td>42.0</td>\n",
       "    </tr>\n",
       "  </tbody>\n",
       "</table>\n",
       "</div>"
      ],
      "text/plain": [
       "    Data aggiornamento  Tamponi giornalieri  Nuovi positivi  \\\n",
       "243         24/10/2020              12530.0            1718   \n",
       "\n",
       "     % Positivi/Tamponi  Differenza ospedalizzati  \\\n",
       "243                13.7                      38.0   \n",
       "\n",
       "     Differenza terapia intensiva  Differenza deceduti  Differenza guariti  \n",
       "243                          10.0                  8.0                42.0  "
      ]
     },
     "execution_count": 16,
     "metadata": {},
     "output_type": "execute_result"
    }
   ],
   "source": [
    "analisi_giorno.loc[:, ['Data aggiornamento','Tamponi giornalieri','Nuovi positivi','% Positivi/Tamponi', 'Differenza ospedalizzati', 'Differenza terapia intensiva' ,'Differenza deceduti', 'Differenza guariti' ]]"
   ]
  },
  {
   "cell_type": "code",
   "execution_count": 17,
   "metadata": {},
   "outputs": [
    {
     "data": {
      "text/html": [
       "<div>\n",
       "<style scoped>\n",
       "    .dataframe tbody tr th:only-of-type {\n",
       "        vertical-align: middle;\n",
       "    }\n",
       "\n",
       "    .dataframe tbody tr th {\n",
       "        vertical-align: top;\n",
       "    }\n",
       "\n",
       "    .dataframe thead th {\n",
       "        text-align: right;\n",
       "    }\n",
       "</style>\n",
       "<table border=\"1\" class=\"dataframe\">\n",
       "  <thead>\n",
       "    <tr style=\"text-align: right;\">\n",
       "      <th></th>\n",
       "      <th>Data aggiornamento</th>\n",
       "      <th>% Variazione tamponi giornaliera</th>\n",
       "      <th>% Variazione positivi giornaliera</th>\n",
       "      <th>% Variazione ospedalizzati giornaliera</th>\n",
       "      <th>% Variazione terapia intensiva giornaliera</th>\n",
       "    </tr>\n",
       "  </thead>\n",
       "  <tbody>\n",
       "    <tr>\n",
       "      <th>243</th>\n",
       "      <td>24/10/2020</td>\n",
       "      <td>-20.7</td>\n",
       "      <td>-24.6</td>\n",
       "      <td>-33.3</td>\n",
       "      <td>150.0</td>\n",
       "    </tr>\n",
       "  </tbody>\n",
       "</table>\n",
       "</div>"
      ],
      "text/plain": [
       "    Data aggiornamento  % Variazione tamponi giornaliera  \\\n",
       "243         24/10/2020                             -20.7   \n",
       "\n",
       "     % Variazione positivi giornaliera  \\\n",
       "243                              -24.6   \n",
       "\n",
       "     % Variazione ospedalizzati giornaliera  \\\n",
       "243                                   -33.3   \n",
       "\n",
       "     % Variazione terapia intensiva giornaliera  \n",
       "243                                       150.0  "
      ]
     },
     "execution_count": 17,
     "metadata": {},
     "output_type": "execute_result"
    }
   ],
   "source": [
    "analisi_giorno.loc[:, ['Data aggiornamento','% Variazione tamponi giornaliera', '% Variazione positivi giornaliera', '% Variazione ospedalizzati giornaliera', '% Variazione terapia intensiva giornaliera']]"
   ]
  },
  {
   "cell_type": "markdown",
   "metadata": {},
   "source": [
    "## Fotografia attuale\n",
    "\n",
    "---\n",
    "Situazione attuale"
   ]
  },
  {
   "cell_type": "code",
   "execution_count": 18,
   "metadata": {},
   "outputs": [
    {
     "data": {
      "text/html": [
       "<div>\n",
       "<style scoped>\n",
       "    .dataframe tbody tr th:only-of-type {\n",
       "        vertical-align: middle;\n",
       "    }\n",
       "\n",
       "    .dataframe tbody tr th {\n",
       "        vertical-align: top;\n",
       "    }\n",
       "\n",
       "    .dataframe thead th {\n",
       "        text-align: right;\n",
       "    }\n",
       "</style>\n",
       "<table border=\"1\" class=\"dataframe\">\n",
       "  <thead>\n",
       "    <tr style=\"text-align: right;\">\n",
       "      <th></th>\n",
       "      <th>Data aggiornamento</th>\n",
       "      <th>Totale positivi</th>\n",
       "      <th>Totale ospedalizzati</th>\n",
       "      <th>Terapia Intensiva</th>\n",
       "      <th>% Letalità</th>\n",
       "    </tr>\n",
       "  </thead>\n",
       "  <tbody>\n",
       "    <tr>\n",
       "      <th>243</th>\n",
       "      <td>24/10/2020</td>\n",
       "      <td>26303</td>\n",
       "      <td>1226</td>\n",
       "      <td>108</td>\n",
       "      <td>1.6</td>\n",
       "    </tr>\n",
       "  </tbody>\n",
       "</table>\n",
       "</div>"
      ],
      "text/plain": [
       "    Data aggiornamento  Totale positivi  Totale ospedalizzati  \\\n",
       "243         24/10/2020            26303                  1226   \n",
       "\n",
       "     Terapia Intensiva  % Letalità  \n",
       "243                108         1.6  "
      ]
     },
     "execution_count": 18,
     "metadata": {},
     "output_type": "execute_result"
    }
   ],
   "source": [
    "analisi_giorno.loc[:, ['Data aggiornamento','Totale positivi', \"Totale ospedalizzati\", \"Terapia Intensiva\", \"% Letalità\"]]"
   ]
  },
  {
   "cell_type": "code",
   "execution_count": 19,
   "metadata": {},
   "outputs": [
    {
     "data": {
      "text/plain": [
       "<matplotlib.axes._subplots.AxesSubplot at 0x7f5253850790>"
      ]
     },
     "execution_count": 19,
     "metadata": {},
     "output_type": "execute_result"
    },
    {
     "data": {
      "image/png": "[encoded data removed]",
      "text/plain": [
       "<Figure size 864x432 with 1 Axes>"
      ]
     },
     "metadata": {
      "needs_background": "light"
     },
     "output_type": "display_data"
    }
   ],
   "source": [
    "analisi_giorno.plot(kind='barh', y=['Totale positivi', \"Totale ospedalizzati\", \"Terapia Intensiva\"], grid=True, title='Stato attuale', figsize=(12,6))"
   ]
  },
  {
   "cell_type": "markdown",
   "metadata": {},
   "source": [
    "## Complessivi\n",
    "\n",
    "---\n",
    "Dati generali"
   ]
  },
  {
   "cell_type": "code",
   "execution_count": 20,
   "metadata": {},
   "outputs": [
    {
     "data": {
      "text/html": [
       "<div>\n",
       "<style scoped>\n",
       "    .dataframe tbody tr th:only-of-type {\n",
       "        vertical-align: middle;\n",
       "    }\n",
       "\n",
       "    .dataframe tbody tr th {\n",
       "        vertical-align: top;\n",
       "    }\n",
       "\n",
       "    .dataframe thead th {\n",
       "        text-align: right;\n",
       "    }\n",
       "</style>\n",
       "<table border=\"1\" class=\"dataframe\">\n",
       "  <thead>\n",
       "    <tr style=\"text-align: right;\">\n",
       "      <th></th>\n",
       "      <th>Data aggiornamento</th>\n",
       "      <th>Totale casi</th>\n",
       "      <th>Deceduti</th>\n",
       "      <th>Dimessi guariti</th>\n",
       "      <th>Tamponi</th>\n",
       "    </tr>\n",
       "  </thead>\n",
       "  <tbody>\n",
       "    <tr>\n",
       "      <th>243</th>\n",
       "      <td>24/10/2020</td>\n",
       "      <td>36023</td>\n",
       "      <td>571</td>\n",
       "      <td>9149</td>\n",
       "      <td>843297</td>\n",
       "    </tr>\n",
       "  </tbody>\n",
       "</table>\n",
       "</div>"
      ],
      "text/plain": [
       "    Data aggiornamento  Totale casi  Deceduti  Dimessi guariti  Tamponi\n",
       "243         24/10/2020        36023       571             9149   843297"
      ]
     },
     "execution_count": 20,
     "metadata": {},
     "output_type": "execute_result"
    }
   ],
   "source": [
    "analisi_giorno.loc[:, ['Data aggiornamento','Totale casi', 'Deceduti', 'Dimessi guariti', 'Tamponi' ]]"
   ]
  },
  {
   "cell_type": "code",
   "execution_count": 21,
   "metadata": {},
   "outputs": [
    {
     "data": {
      "text/plain": [
       "<matplotlib.axes._subplots.AxesSubplot at 0x7f525374c4f0>"
      ]
     },
     "execution_count": 21,
     "metadata": {},
     "output_type": "execute_result"
    },
    {
     "data": {
      "image/png": "[encoded data removed]",
      "text/plain": [
       "<Figure size 864x432 with 1 Axes>"
      ]
     },
     "metadata": {
      "needs_background": "light"
     },
     "output_type": "display_data"
    }
   ],
   "source": [
    "analisi_giorno.plot(kind='barh', y=['Totale casi', 'Dimessi guariti',  'Deceduti'], title='Generale', grid=True, figsize=(12,6))"
   ]
  },
  {
   "cell_type": "code",
   "execution_count": null,
   "metadata": {},
   "outputs": [],
   "source": []
  }
 ],
 "metadata": {
  "kernelspec": {
   "display_name": "Python 3",
   "language": "python",
   "name": "python3"
  },
  "language_info": {
   "codemirror_mode": {
    "name": "ipython",
    "version": 3
   },
   "file_extension": ".py",
   "mimetype": "text/x-python",
   "name": "python",
   "nbconvert_exporter": "python",
   "pygments_lexer": "ipython3",
   "version": "3.8.3"
  }
 },
 "nbformat": 4,
 "nbformat_minor": 4
}
