{
 "cells": [
  {
   "cell_type": "markdown",
   "metadata": {},
   "source": [
    "# Dashboard\n",
    "\n",
    "---\n",
    "Dashbaord emergenza covid19 in Campania.\n",
    "\n",
    "Dataset:\n",
    "[Link dataset - COVID-19 Monitoraggio situazione: Dati di dettaglio relativi alla Regione Campania](https://dati.regione.campania.it/catalogo/datasetdetail/covid-19-monitoraggio-situazione-dati-di-dettaglio-relativi-alla-regione-campania) \n",
    "\n",
    "\n",
    "**Dati presenti**: \n",
    "- Delta rispetto al giorno precedente\n",
    "- Dati sulla Situazione attuale\n",
    "- Dati complessivi\n",
    "\n",
    "---"
   ]
  },
  {
   "cell_type": "code",
   "execution_count": 1,
   "metadata": {},
   "outputs": [],
   "source": [
    "# Caricamento dati da notebook di pre-elaborazione dati\n",
    "%run pre_elaborazione_dati.ipynb\n",
    "analisi_giorno = dati_selezionati.tail(1)"
   ]
  },
  {
   "cell_type": "markdown",
   "metadata": {},
   "source": [
    "## Delta rispetto al giorno precedente\n",
    "\n",
    "---\n",
    "Dati giornalieri con variazioni e differenze\n",
    "\n"
   ]
  },
  {
   "cell_type": "code",
   "execution_count": 2,
   "metadata": {},
   "outputs": [
    {
     "data": {
      "text/html": [
       "<div>\n",
       "<style scoped>\n",
       "    .dataframe tbody tr th:only-of-type {\n",
       "        vertical-align: middle;\n",
       "    }\n",
       "\n",
       "    .dataframe tbody tr th {\n",
       "        vertical-align: top;\n",
       "    }\n",
       "\n",
       "    .dataframe thead th {\n",
       "        text-align: right;\n",
       "    }\n",
       "</style>\n",
       "<table border=\"1\" class=\"dataframe\">\n",
       "  <thead>\n",
       "    <tr style=\"text-align: right;\">\n",
       "      <th></th>\n",
       "      <th>Data aggiornamento</th>\n",
       "      <th>Tamponi giornalieri</th>\n",
       "      <th>Nuovi positivi</th>\n",
       "      <th>% Positivi/Tamponi</th>\n",
       "      <th>Differenza ospedalizzati</th>\n",
       "      <th>Differenza terapia intensiva</th>\n",
       "      <th>Differenza deceduti</th>\n",
       "      <th>Differenza guariti</th>\n",
       "    </tr>\n",
       "  </thead>\n",
       "  <tbody>\n",
       "    <tr>\n",
       "      <th>296</th>\n",
       "      <td>16/12/2020</td>\n",
       "      <td>14757.0</td>\n",
       "      <td>900</td>\n",
       "      <td>6.1</td>\n",
       "      <td>-18.0</td>\n",
       "      <td>1.0</td>\n",
       "      <td>34.0</td>\n",
       "      <td>2904.0</td>\n",
       "    </tr>\n",
       "  </tbody>\n",
       "</table>\n",
       "</div>"
      ],
      "text/plain": [
       "    Data aggiornamento  Tamponi giornalieri  Nuovi positivi  \\\n",
       "296         16/12/2020              14757.0             900   \n",
       "\n",
       "     % Positivi/Tamponi  Differenza ospedalizzati  \\\n",
       "296                 6.1                     -18.0   \n",
       "\n",
       "     Differenza terapia intensiva  Differenza deceduti  Differenza guariti  \n",
       "296                           1.0                 34.0              2904.0  "
      ]
     },
     "execution_count": 2,
     "metadata": {},
     "output_type": "execute_result"
    }
   ],
   "source": [
    "analisi_giorno.loc[:, ['Data aggiornamento','Tamponi giornalieri','Nuovi positivi','% Positivi/Tamponi', 'Differenza ospedalizzati', 'Differenza terapia intensiva' ,'Differenza deceduti', 'Differenza guariti' ]]"
   ]
  },
  {
   "cell_type": "markdown",
   "metadata": {},
   "source": [
    "## Dati sulla Situazione attuale\n",
    "\n",
    "---"
   ]
  },
  {
   "cell_type": "code",
   "execution_count": 3,
   "metadata": {},
   "outputs": [
    {
     "data": {
      "text/html": [
       "<div>\n",
       "<style scoped>\n",
       "    .dataframe tbody tr th:only-of-type {\n",
       "        vertical-align: middle;\n",
       "    }\n",
       "\n",
       "    .dataframe tbody tr th {\n",
       "        vertical-align: top;\n",
       "    }\n",
       "\n",
       "    .dataframe thead th {\n",
       "        text-align: right;\n",
       "    }\n",
       "</style>\n",
       "<table border=\"1\" class=\"dataframe\">\n",
       "  <thead>\n",
       "    <tr style=\"text-align: right;\">\n",
       "      <th></th>\n",
       "      <th>Data aggiornamento</th>\n",
       "      <th>Totale positivi</th>\n",
       "      <th>Totale ospedalizzati</th>\n",
       "      <th>Terapia Intensiva</th>\n",
       "    </tr>\n",
       "  </thead>\n",
       "  <tbody>\n",
       "    <tr>\n",
       "      <th>296</th>\n",
       "      <td>16/12/2020</td>\n",
       "      <td>88204</td>\n",
       "      <td>1825</td>\n",
       "      <td>124</td>\n",
       "    </tr>\n",
       "  </tbody>\n",
       "</table>\n",
       "</div>"
      ],
      "text/plain": [
       "    Data aggiornamento  Totale positivi  Totale ospedalizzati  \\\n",
       "296         16/12/2020            88204                  1825   \n",
       "\n",
       "     Terapia Intensiva  \n",
       "296                124  "
      ]
     },
     "execution_count": 3,
     "metadata": {},
     "output_type": "execute_result"
    }
   ],
   "source": [
    "analisi_giorno.loc[:, ['Data aggiornamento','Totale positivi', \"Totale ospedalizzati\", \"Terapia Intensiva\"]]"
   ]
  },
  {
   "cell_type": "code",
   "execution_count": 4,
   "metadata": {},
   "outputs": [
    {
     "data": {
      "text/plain": [
       "<AxesSubplot:title={'center':'Stato attuale'}>"
      ]
     },
     "execution_count": 4,
     "metadata": {},
     "output_type": "execute_result"
    },
    {
     "data": {
      "image/png": "[encoded data removed]",
      "text/plain": [
       "<Figure size 864x144 with 1 Axes>"
      ]
     },
     "metadata": {
      "needs_background": "light"
     },
     "output_type": "display_data"
    }
   ],
   "source": [
    "analisi_giorno.plot(kind='barh', y=['Totale positivi', \"Totale ospedalizzati\", \"Terapia Intensiva\"], grid=True, title='Stato attuale', figsize=(12,2))"
   ]
  },
  {
   "cell_type": "markdown",
   "metadata": {},
   "source": [
    "## Dati complessivi\n",
    "\n",
    "---"
   ]
  },
  {
   "cell_type": "code",
   "execution_count": 5,
   "metadata": {},
   "outputs": [
    {
     "data": {
      "text/html": [
       "<div>\n",
       "<style scoped>\n",
       "    .dataframe tbody tr th:only-of-type {\n",
       "        vertical-align: middle;\n",
       "    }\n",
       "\n",
       "    .dataframe tbody tr th {\n",
       "        vertical-align: top;\n",
       "    }\n",
       "\n",
       "    .dataframe thead th {\n",
       "        text-align: right;\n",
       "    }\n",
       "</style>\n",
       "<table border=\"1\" class=\"dataframe\">\n",
       "  <thead>\n",
       "    <tr style=\"text-align: right;\">\n",
       "      <th></th>\n",
       "      <th>Data aggiornamento</th>\n",
       "      <th>Totale casi</th>\n",
       "      <th>Deceduti</th>\n",
       "      <th>Dimessi guariti</th>\n",
       "      <th>Tamponi</th>\n",
       "      <th>% Letalità</th>\n",
       "    </tr>\n",
       "  </thead>\n",
       "  <tbody>\n",
       "    <tr>\n",
       "      <th>296</th>\n",
       "      <td>16/12/2020</td>\n",
       "      <td>176600</td>\n",
       "      <td>2424</td>\n",
       "      <td>85972</td>\n",
       "      <td>1844893</td>\n",
       "      <td>1.4</td>\n",
       "    </tr>\n",
       "  </tbody>\n",
       "</table>\n",
       "</div>"
      ],
      "text/plain": [
       "    Data aggiornamento  Totale casi  Deceduti  Dimessi guariti  Tamponi  \\\n",
       "296         16/12/2020       176600      2424            85972  1844893   \n",
       "\n",
       "     % Letalità  \n",
       "296         1.4  "
      ]
     },
     "execution_count": 5,
     "metadata": {},
     "output_type": "execute_result"
    }
   ],
   "source": [
    "analisi_giorno.loc[:, ['Data aggiornamento','Totale casi', 'Deceduti', 'Dimessi guariti', 'Tamponi', \"% Letalità\"]]"
   ]
  },
  {
   "cell_type": "code",
   "execution_count": 6,
   "metadata": {},
   "outputs": [
    {
     "data": {
      "text/plain": [
       "<AxesSubplot:title={'center':'Generale'}>"
      ]
     },
     "execution_count": 6,
     "metadata": {},
     "output_type": "execute_result"
    },
    {
     "data": {
      "image/png": "[encoded data removed]",
      "text/plain": [
       "<Figure size 864x144 with 1 Axes>"
      ]
     },
     "metadata": {
      "needs_background": "light"
     },
     "output_type": "display_data"
    }
   ],
   "source": [
    "analisi_giorno.plot(kind='barh', y=['Totale casi', 'Dimessi guariti',  'Deceduti'], title='Generale', grid=True, figsize=(12,2))"
   ]
  }
 ],
 "metadata": {
  "kernelspec": {
   "display_name": "Python 3",
   "language": "python",
   "name": "python3"
  },
  "language_info": {
   "codemirror_mode": {
    "name": "ipython",
    "version": 3
   },
   "file_extension": ".py",
   "mimetype": "text/x-python",
   "name": "python",
   "nbconvert_exporter": "python",
   "pygments_lexer": "ipython3",
   "version": "3.8.6"
  }
 },
 "nbformat": 4,
 "nbformat_minor": 4
}
