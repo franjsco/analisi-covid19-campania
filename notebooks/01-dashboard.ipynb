{
 "cells": [
  {
   "cell_type": "markdown",
   "metadata": {},
   "source": [
    "# Dashboard\n",
    "\n",
    "---\n",
    "Dashbaord emergenza covid19 in Campania.\n",
    "\n",
    "Dataset:\n",
    "[Link dataset - COVID-19 Monitoraggio situazione: Dati di dettaglio relativi alla Regione Campania](https://dati.regione.campania.it/catalogo/datasetdetail/covid-19-monitoraggio-situazione-dati-di-dettaglio-relativi-alla-regione-campania) \n",
    "\n",
    "\n",
    "**Dati presenti**: \n",
    "- Delta rispetto al giorno precedente\n",
    "- Dati sulla Situazione attuale\n",
    "- Dati complessivi\n",
    "\n",
    "---"
   ]
  },
  {
   "cell_type": "code",
   "execution_count": 8,
   "metadata": {},
   "outputs": [],
   "source": [
    "# Caricamento dati da notebook di pre-elaborazione dati\n",
    "%run pre_elaborazione_dati.ipynb\n",
    "analisi_giorno = dati_selezionati.tail(1)"
   ]
  },
  {
   "cell_type": "markdown",
   "metadata": {},
   "source": [
    "## Delta rispetto al giorno precedente\n",
    "\n",
    "---\n",
    "Dati giornalieri con variazioni e differenze\n",
    "\n"
   ]
  },
  {
   "cell_type": "code",
   "execution_count": 9,
   "metadata": {},
   "outputs": [
    {
     "data": {
      "text/html": [
       "<div>\n",
       "<style scoped>\n",
       "    .dataframe tbody tr th:only-of-type {\n",
       "        vertical-align: middle;\n",
       "    }\n",
       "\n",
       "    .dataframe tbody tr th {\n",
       "        vertical-align: top;\n",
       "    }\n",
       "\n",
       "    .dataframe thead th {\n",
       "        text-align: right;\n",
       "    }\n",
       "</style>\n",
       "<table border=\"1\" class=\"dataframe\">\n",
       "  <thead>\n",
       "    <tr style=\"text-align: right;\">\n",
       "      <th></th>\n",
       "      <th>Data aggiornamento</th>\n",
       "      <th>Tamponi giornalieri</th>\n",
       "      <th>Nuovi positivi</th>\n",
       "      <th>% Positivi/Tamponi</th>\n",
       "      <th>Differenza ospedalizzati</th>\n",
       "      <th>Differenza terapia intensiva</th>\n",
       "      <th>Differenza deceduti</th>\n",
       "      <th>Differenza guariti</th>\n",
       "    </tr>\n",
       "  </thead>\n",
       "  <tbody>\n",
       "    <tr>\n",
       "      <th>288</th>\n",
       "      <td>08/12/2020</td>\n",
       "      <td>12360.0</td>\n",
       "      <td>1080</td>\n",
       "      <td>8.7</td>\n",
       "      <td>61.0</td>\n",
       "      <td>3.0</td>\n",
       "      <td>35.0</td>\n",
       "      <td>2575.0</td>\n",
       "    </tr>\n",
       "  </tbody>\n",
       "</table>\n",
       "</div>"
      ],
      "text/plain": [
       "    Data aggiornamento  Tamponi giornalieri  Nuovi positivi  \\\n",
       "288         08/12/2020              12360.0            1080   \n",
       "\n",
       "     % Positivi/Tamponi  Differenza ospedalizzati  \\\n",
       "288                 8.7                      61.0   \n",
       "\n",
       "     Differenza terapia intensiva  Differenza deceduti  Differenza guariti  \n",
       "288                           3.0                 35.0              2575.0  "
      ]
     },
     "execution_count": 9,
     "metadata": {},
     "output_type": "execute_result"
    }
   ],
   "source": [
    "analisi_giorno.loc[:, ['Data aggiornamento','Tamponi giornalieri','Nuovi positivi','% Positivi/Tamponi', 'Differenza ospedalizzati', 'Differenza terapia intensiva' ,'Differenza deceduti', 'Differenza guariti' ]]"
   ]
  },
  {
   "cell_type": "markdown",
   "metadata": {},
   "source": [
    "## Dati sulla Situazione attuale\n",
    "\n",
    "---"
   ]
  },
  {
   "cell_type": "code",
   "execution_count": 10,
   "metadata": {},
   "outputs": [
    {
     "data": {
      "text/html": [
       "<div>\n",
       "<style scoped>\n",
       "    .dataframe tbody tr th:only-of-type {\n",
       "        vertical-align: middle;\n",
       "    }\n",
       "\n",
       "    .dataframe tbody tr th {\n",
       "        vertical-align: top;\n",
       "    }\n",
       "\n",
       "    .dataframe thead th {\n",
       "        text-align: right;\n",
       "    }\n",
       "</style>\n",
       "<table border=\"1\" class=\"dataframe\">\n",
       "  <thead>\n",
       "    <tr style=\"text-align: right;\">\n",
       "      <th></th>\n",
       "      <th>Data aggiornamento</th>\n",
       "      <th>Totale positivi</th>\n",
       "      <th>Totale ospedalizzati</th>\n",
       "      <th>Terapia Intensiva</th>\n",
       "    </tr>\n",
       "  </thead>\n",
       "  <tbody>\n",
       "    <tr>\n",
       "      <th>288</th>\n",
       "      <td>08/12/2020</td>\n",
       "      <td>98765</td>\n",
       "      <td>2038</td>\n",
       "      <td>140</td>\n",
       "    </tr>\n",
       "  </tbody>\n",
       "</table>\n",
       "</div>"
      ],
      "text/plain": [
       "    Data aggiornamento  Totale positivi  Totale ospedalizzati  \\\n",
       "288         08/12/2020            98765                  2038   \n",
       "\n",
       "     Terapia Intensiva  \n",
       "288                140  "
      ]
     },
     "execution_count": 10,
     "metadata": {},
     "output_type": "execute_result"
    }
   ],
   "source": [
    "analisi_giorno.loc[:, ['Data aggiornamento','Totale positivi', \"Totale ospedalizzati\", \"Terapia Intensiva\"]]"
   ]
  },
  {
   "cell_type": "code",
   "execution_count": 11,
   "metadata": {},
   "outputs": [
    {
     "data": {
      "text/plain": [
       "<AxesSubplot:title={'center':'Stato attuale'}>"
      ]
     },
     "execution_count": 11,
     "metadata": {},
     "output_type": "execute_result"
    },
    {
     "data": {
      "image/png": "[encoded data removed]",
      "text/plain": [
       "<Figure size 864x144 with 1 Axes>"
      ]
     },
     "metadata": {
      "needs_background": "light"
     },
     "output_type": "display_data"
    }
   ],
   "source": [
    "analisi_giorno.plot(kind='barh', y=['Totale positivi', \"Totale ospedalizzati\", \"Terapia Intensiva\"], grid=True, title='Stato attuale', figsize=(12,2))"
   ]
  },
  {
   "cell_type": "markdown",
   "metadata": {},
   "source": [
    "## Dati complessivi\n",
    "\n",
    "---"
   ]
  },
  {
   "cell_type": "code",
   "execution_count": 12,
   "metadata": {},
   "outputs": [
    {
     "data": {
      "text/html": [
       "<div>\n",
       "<style scoped>\n",
       "    .dataframe tbody tr th:only-of-type {\n",
       "        vertical-align: middle;\n",
       "    }\n",
       "\n",
       "    .dataframe tbody tr th {\n",
       "        vertical-align: top;\n",
       "    }\n",
       "\n",
       "    .dataframe thead th {\n",
       "        text-align: right;\n",
       "    }\n",
       "</style>\n",
       "<table border=\"1\" class=\"dataframe\">\n",
       "  <thead>\n",
       "    <tr style=\"text-align: right;\">\n",
       "      <th></th>\n",
       "      <th>Data aggiornamento</th>\n",
       "      <th>Totale casi</th>\n",
       "      <th>Deceduti</th>\n",
       "      <th>Dimessi guariti</th>\n",
       "      <th>Tamponi</th>\n",
       "      <th>% Letalità</th>\n",
       "    </tr>\n",
       "  </thead>\n",
       "  <tbody>\n",
       "    <tr>\n",
       "      <th>288</th>\n",
       "      <td>08/12/2020</td>\n",
       "      <td>167433</td>\n",
       "      <td>2064</td>\n",
       "      <td>66604</td>\n",
       "      <td>1721240</td>\n",
       "      <td>1.2</td>\n",
       "    </tr>\n",
       "  </tbody>\n",
       "</table>\n",
       "</div>"
      ],
      "text/plain": [
       "    Data aggiornamento  Totale casi  Deceduti  Dimessi guariti  Tamponi  \\\n",
       "288         08/12/2020       167433      2064            66604  1721240   \n",
       "\n",
       "     % Letalità  \n",
       "288         1.2  "
      ]
     },
     "execution_count": 12,
     "metadata": {},
     "output_type": "execute_result"
    }
   ],
   "source": [
    "analisi_giorno.loc[:, ['Data aggiornamento','Totale casi', 'Deceduti', 'Dimessi guariti', 'Tamponi', \"% Letalità\"]]"
   ]
  },
  {
   "cell_type": "code",
   "execution_count": 13,
   "metadata": {},
   "outputs": [
    {
     "data": {
      "text/plain": [
       "<AxesSubplot:title={'center':'Generale'}>"
      ]
     },
     "execution_count": 13,
     "metadata": {},
     "output_type": "execute_result"
    },
    {
     "data": {
      "image/png": "[encoded data removed]",
      "text/plain": [
       "<Figure size 864x144 with 1 Axes>"
      ]
     },
     "metadata": {
      "needs_background": "light"
     },
     "output_type": "display_data"
    }
   ],
   "source": [
    "analisi_giorno.plot(kind='barh', y=['Totale casi', 'Dimessi guariti',  'Deceduti'], title='Generale', grid=True, figsize=(12,2))"
   ]
  }
 ],
 "metadata": {
  "kernelspec": {
   "display_name": "Python 3",
   "language": "python",
   "name": "python3"
  },
  "language_info": {
   "codemirror_mode": {
    "name": "ipython",
    "version": 3
   },
   "file_extension": ".py",
   "mimetype": "text/x-python",
   "name": "python",
   "nbconvert_exporter": "python",
   "pygments_lexer": "ipython3",
   "version": "3.8.6"
  }
 },
 "nbformat": 4,
 "nbformat_minor": 4
}
